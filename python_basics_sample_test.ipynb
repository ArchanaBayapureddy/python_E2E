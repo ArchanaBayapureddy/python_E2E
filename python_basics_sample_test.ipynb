{
  "nbformat": 4,
  "nbformat_minor": 0,
  "metadata": {
    "colab": {
      "provenance": [],
      "authorship_tag": "ABX9TyN9dBvxqJEz+U214vLKW5kv",
      "include_colab_link": true
    },
    "kernelspec": {
      "name": "python3",
      "display_name": "Python 3"
    },
    "language_info": {
      "name": "python"
    }
  },
  "cells": [
    {
      "cell_type": "markdown",
      "metadata": {
        "id": "view-in-github",
        "colab_type": "text"
      },
      "source": [
        "<a href=\"https://colab.research.google.com/github/ArchanaBayapureddy/python_E2E/blob/main/python_basics_sample_test.ipynb\" target=\"_parent\"><img src=\"https://colab.research.google.com/assets/colab-badge.svg\" alt=\"Open In Colab\"/></a>"
      ]
    },
    {
      "cell_type": "code",
      "source": [
        "\n",
        "n=100\n",
        "for i in range(2,n):\n",
        "  c=0\n",
        "  for j in range(2,i):\n",
        "     if i%j == 0:\n",
        "      c=c+1\n",
        "  if c==0:\n",
        "     print(i)"
      ],
      "metadata": {
        "colab": {
          "base_uri": "https://localhost:8080/"
        },
        "id": "QDssQX6nOVFm",
        "outputId": "fc46035f-d217-46f6-e7b4-f21b894bbbbf"
      },
      "execution_count": 1,
      "outputs": [
        {
          "output_type": "stream",
          "name": "stdout",
          "text": [
            "2\n",
            "3\n",
            "5\n",
            "7\n",
            "11\n",
            "13\n",
            "17\n",
            "19\n",
            "23\n",
            "29\n",
            "31\n",
            "37\n",
            "41\n",
            "43\n",
            "47\n",
            "53\n",
            "59\n",
            "61\n",
            "67\n",
            "71\n",
            "73\n",
            "79\n",
            "83\n",
            "89\n",
            "97\n"
          ]
        }
      ]
    },
    {
      "cell_type": "code",
      "source": [
        "a=[3,3,5,9,11,9]\n",
        "b={}\n",
        "for i in a:\n",
        "  if i in b:\n",
        "    b[i] = b[i]+1\n",
        "  else:\n",
        "    b[i]=1\n",
        "max_freq = 0\n",
        "for j in b.values():\n",
        "  if j>max_freq :\n",
        "    max_freq =j\n",
        "c=[]\n",
        "for k in b:\n",
        "  if b[k] == max_freq:\n",
        "     c.append(k)\n",
        "print(f\"mode: {c}\")"
      ],
      "metadata": {
        "colab": {
          "base_uri": "https://localhost:8080/"
        },
        "id": "Rvzo5hbpfJLZ",
        "outputId": "62a2eaed-d7c3-47b6-ef6d-c1740da5276f"
      },
      "execution_count": null,
      "outputs": [
        {
          "output_type": "stream",
          "name": "stdout",
          "text": [
            "mode: [3, 9]\n"
          ]
        }
      ]
    }
  ]
}